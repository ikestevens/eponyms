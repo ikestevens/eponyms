{
 "cells": [
  {
   "cell_type": "markdown",
   "metadata": {},
   "source": [
    "# Explore Eponym NFT Collection\n",
    "Official Eponym Links\n",
    "<br>\n",
    "https://art-ai.com/\n",
    "<br>\n",
    "https://opensea.io/collection/eponym\n",
    "<br>\n",
    "<br>\n",
    "Notebook Author\n",
    "<br>\n",
    "https://twitter.com/sherrillNFT"
   ]
  },
  {
   "cell_type": "code",
   "execution_count": 50,
   "metadata": {},
   "outputs": [],
   "source": [
    "import pandas as pd\n",
    "import os\n",
    "import functools\n",
    "import operator\n",
    "import re\n",
    "import emoji\n",
    "from emoji import UNICODE_EMOJI\n",
    "from tabulate import tabulate\n",
    "from nltk import word_tokenize\n",
    "import warnings\n",
    "warnings.filterwarnings('ignore')"
   ]
  },
  {
   "cell_type": "code",
   "execution_count": 2,
   "metadata": {},
   "outputs": [],
   "source": [
    "#read in eponyms dataframe that I made in another script\n",
    "df = pd.read_csv(\"eponyms_df.csv\", index_col = 0)"
   ]
  },
  {
   "cell_type": "markdown",
   "metadata": {},
   "source": [
    "## Eponyms Listed Alphabetically"
   ]
  },
  {
   "cell_type": "code",
   "execution_count": 3,
   "metadata": {},
   "outputs": [],
   "source": [
    "full_df_alpha = df.sort_values('name')"
   ]
  },
  {
   "cell_type": "code",
   "execution_count": 4,
   "metadata": {},
   "outputs": [],
   "source": [
    "#replace whitespace and tabs with underscore\n",
    "full_df_alpha['name'] = full_df_alpha['name'].str.replace('\\t', '_____')\n",
    "full_df_alpha['name'] = full_df_alpha['name'].str.replace(' ', '_')\n",
    "full_df_alpha['name'] = '`' + full_df_alpha['name'].astype(str) + '`'"
   ]
  },
  {
   "cell_type": "code",
   "execution_count": 5,
   "metadata": {},
   "outputs": [
    {
     "data": {
      "text/plain": [
       "8540    `_____beyoncé`\n",
       "1467               `_`\n",
       "5324         `___ngmi`\n",
       "9838         `__panda`\n",
       "5840             `__₿`\n",
       "Name: name, dtype: object"
      ]
     },
     "execution_count": 5,
     "metadata": {},
     "output_type": "execute_result"
    }
   ],
   "source": [
    "full_df_alpha['name'].head()"
   ]
  },
  {
   "cell_type": "code",
   "execution_count": 6,
   "metadata": {},
   "outputs": [],
   "source": [
    "#Save as markdown to then save as html\n",
    "full_df_alpha = full_df_alpha.reset_index(drop=True)\n",
    "full_df_alpha_md = tabulate(full_df_alpha, tablefmt=\"pipe\", headers=\"keys\")\n",
    "with open(os.getcwd() + '/markdown/all_eponyms_alphabetically.md', 'w') as f:\n",
    "    f.write(full_df_alpha_md)"
   ]
  },
  {
   "cell_type": "markdown",
   "metadata": {},
   "source": [
    "## Eponyms Listed By Mint Order"
   ]
  },
  {
   "cell_type": "code",
   "execution_count": 7,
   "metadata": {},
   "outputs": [
    {
     "data": {
      "text/html": [
       "<div>\n",
       "<style scoped>\n",
       "    .dataframe tbody tr th:only-of-type {\n",
       "        vertical-align: middle;\n",
       "    }\n",
       "\n",
       "    .dataframe tbody tr th {\n",
       "        vertical-align: top;\n",
       "    }\n",
       "\n",
       "    .dataframe thead th {\n",
       "        text-align: right;\n",
       "    }\n",
       "</style>\n",
       "<table border=\"1\" class=\"dataframe\">\n",
       "  <thead>\n",
       "    <tr style=\"text-align: right;\">\n",
       "      <th></th>\n",
       "      <th>token_num</th>\n",
       "      <th>name</th>\n",
       "      <th>image_url</th>\n",
       "    </tr>\n",
       "  </thead>\n",
       "  <tbody>\n",
       "    <tr>\n",
       "      <th>0</th>\n",
       "      <td>1</td>\n",
       "      <td>to the moon</td>\n",
       "      <td>https://ipfs.io/ipfs/QmYfMU8DQy4TjuLahUtp5uTMZ...</td>\n",
       "    </tr>\n",
       "    <tr>\n",
       "      <th>1</th>\n",
       "      <td>2</td>\n",
       "      <td>art</td>\n",
       "      <td>https://ipfs.io/ipfs/QmPcQJGD9sBQfD43oqaUgEPms...</td>\n",
       "    </tr>\n",
       "    <tr>\n",
       "      <th>2</th>\n",
       "      <td>3</td>\n",
       "      <td>dumbgayretard</td>\n",
       "      <td>https://ipfs.io/ipfs/Qmd69TckuVPYuoz9taFrJnDPr...</td>\n",
       "    </tr>\n",
       "    <tr>\n",
       "      <th>3</th>\n",
       "      <td>4</td>\n",
       "      <td>skull</td>\n",
       "      <td>https://ipfs.io/ipfs/QmTTF82iBNgurB9BZcYLgcB2s...</td>\n",
       "    </tr>\n",
       "    <tr>\n",
       "      <th>4</th>\n",
       "      <td>5</td>\n",
       "      <td>arq</td>\n",
       "      <td>https://ipfs.io/ipfs/QmX3ba5awgdLkim2QseJ95o4v...</td>\n",
       "    </tr>\n",
       "  </tbody>\n",
       "</table>\n",
       "</div>"
      ],
      "text/plain": [
       "   token_num           name                                          image_url\n",
       "0          1    to the moon  https://ipfs.io/ipfs/QmYfMU8DQy4TjuLahUtp5uTMZ...\n",
       "1          2            art  https://ipfs.io/ipfs/QmPcQJGD9sBQfD43oqaUgEPms...\n",
       "2          3  dumbgayretard  https://ipfs.io/ipfs/Qmd69TckuVPYuoz9taFrJnDPr...\n",
       "3          4          skull  https://ipfs.io/ipfs/QmTTF82iBNgurB9BZcYLgcB2s...\n",
       "4          5            arq  https://ipfs.io/ipfs/QmX3ba5awgdLkim2QseJ95o4v..."
      ]
     },
     "execution_count": 7,
     "metadata": {},
     "output_type": "execute_result"
    }
   ],
   "source": [
    "#eponyms listed by mint order (token id)\n",
    "full_mint_order_df = df.sort_values('token_num')\n",
    "full_mint_order_df.head()"
   ]
  },
  {
   "cell_type": "code",
   "execution_count": 8,
   "metadata": {},
   "outputs": [],
   "source": [
    "#Save as markdown to save as html\n",
    "full_md = tabulate(full_mint_order_df, tablefmt=\"pipe\", headers=\"keys\", showindex=False)\n",
    "with open(os.getcwd() + '/markdown/all_eponyms_mint_order.md', 'w') as f:\n",
    "    f.write(full_md)"
   ]
  },
  {
   "cell_type": "markdown",
   "metadata": {},
   "source": [
    "## All Eponyms That Contain An Emoji in Mint Order"
   ]
  },
  {
   "cell_type": "code",
   "execution_count": 9,
   "metadata": {},
   "outputs": [],
   "source": [
    "def recursive_items(dictionary):\n",
    "    for key, value in dictionary.items():\n",
    "        if type(value) is dict:\n",
    "            yield from recursive_items(value)\n",
    "        else:\n",
    "            yield (key, value)"
   ]
  },
  {
   "cell_type": "code",
   "execution_count": 10,
   "metadata": {},
   "outputs": [
    {
     "name": "stdout",
     "output_type": "stream",
     "text": [
      "There are 22257 possible emojis\n"
     ]
    }
   ],
   "source": [
    "#get all emojis in a list\n",
    "emoji_list = []\n",
    "for key, value in recursive_items(UNICODE_EMOJI):\n",
    "    emoji_list.append(key)\n",
    "print('There are ' + str(len(emoji_list)) + ' possible emojis')"
   ]
  },
  {
   "cell_type": "code",
   "execution_count": 11,
   "metadata": {},
   "outputs": [
    {
     "name": "stdout",
     "output_type": "stream",
     "text": [
      "There are 44 eponyms that contain emojis.\n"
     ]
    }
   ],
   "source": [
    "emoji_count = 0\n",
    "df.sort_values('token_num', inplace = True)\n",
    "emoji_dict = {\n",
    "    \"name\":[],\n",
    "    \"image_url\":[],\n",
    "    \"token_num\":[]\n",
    "}\n",
    "for index, row in df.iterrows():\n",
    "    em_split_emoji = emoji.get_emoji_regexp().split(str(row['name']))\n",
    "    em_split_whitespace = [substr.split() for substr in em_split_emoji]\n",
    "    em_split = functools.reduce(operator.concat, em_split_whitespace)\n",
    "    for word in em_split:\n",
    "        if word in emoji_list:\n",
    "            emoji_dict[\"name\"].append(str(row['name']))\n",
    "            emoji_dict[\"image_url\"].append(row['image_url'])\n",
    "            emoji_dict[\"token_num\"].append(row['token_num'])\n",
    "            emoji_count+=1\n",
    "            break\n",
    "print('There are {} eponyms that contain emojis.'.format(emoji_count))"
   ]
  },
  {
   "cell_type": "code",
   "execution_count": 12,
   "metadata": {},
   "outputs": [],
   "source": [
    "emoji_df = pd.DataFrame(emoji_dict)"
   ]
  },
  {
   "cell_type": "code",
   "execution_count": 13,
   "metadata": {},
   "outputs": [],
   "source": [
    "#Save as markdown to save as html\n",
    "emoji_md = tabulate(emoji_df, tablefmt=\"pipe\", headers=\"keys\")\n",
    "with open(os.getcwd() + '/markdown/emoji.md', 'w') as f:\n",
    "    f.write(emoji_md)"
   ]
  },
  {
   "cell_type": "markdown",
   "metadata": {},
   "source": [
    "## Eponyms That Are a Single Character in Length By Mint Order"
   ]
  },
  {
   "cell_type": "code",
   "execution_count": 14,
   "metadata": {},
   "outputs": [
    {
     "name": "stdout",
     "output_type": "stream",
     "text": [
      "There are 67 eponyms that are a single character long.\n"
     ]
    }
   ],
   "source": [
    "single_char_count = 0\n",
    "single_char_dict = {\n",
    "    \"name\":[],\n",
    "    \"image_url\":[],\n",
    "    \"token_num\":[]\n",
    "}\n",
    "for index, row in df.iterrows():\n",
    "    if len(str(row['name'])) == 1:\n",
    "        single_char_dict[\"name\"].append(str(row['name']))\n",
    "        single_char_dict[\"image_url\"].append(row['image_url'])\n",
    "        single_char_dict[\"token_num\"].append(row['token_num'])\n",
    "        single_char_count +=1\n",
    "print('There are {} eponyms that are a single character long.'.format(single_char_count))"
   ]
  },
  {
   "cell_type": "code",
   "execution_count": 15,
   "metadata": {},
   "outputs": [
    {
     "data": {
      "text/html": [
       "<div>\n",
       "<style scoped>\n",
       "    .dataframe tbody tr th:only-of-type {\n",
       "        vertical-align: middle;\n",
       "    }\n",
       "\n",
       "    .dataframe tbody tr th {\n",
       "        vertical-align: top;\n",
       "    }\n",
       "\n",
       "    .dataframe thead th {\n",
       "        text-align: right;\n",
       "    }\n",
       "</style>\n",
       "<table border=\"1\" class=\"dataframe\">\n",
       "  <thead>\n",
       "    <tr style=\"text-align: right;\">\n",
       "      <th></th>\n",
       "      <th>name</th>\n",
       "      <th>image_url</th>\n",
       "      <th>token_num</th>\n",
       "    </tr>\n",
       "  </thead>\n",
       "  <tbody>\n",
       "    <tr>\n",
       "      <th>0</th>\n",
       "      <td>1</td>\n",
       "      <td>https://ipfs.io/ipfs/QmdQgDpRwLP71yKg5fcQBioeG...</td>\n",
       "      <td>80</td>\n",
       "    </tr>\n",
       "    <tr>\n",
       "      <th>1</th>\n",
       "      <td>0</td>\n",
       "      <td>https://ipfs.io/ipfs/QmNunb3UF4zYoZbsX9LWDZTvn...</td>\n",
       "      <td>103</td>\n",
       "    </tr>\n",
       "    <tr>\n",
       "      <th>2</th>\n",
       "      <td>😎</td>\n",
       "      <td>https://ipfs.io/ipfs/QmXxWpyYRWNBFuPT6WsuD5ya9...</td>\n",
       "      <td>246</td>\n",
       "    </tr>\n",
       "    <tr>\n",
       "      <th>3</th>\n",
       "      <td>a</td>\n",
       "      <td>https://ipfs.io/ipfs/QmbJvNydHgHY9CfF5V9MSkWkr...</td>\n",
       "      <td>263</td>\n",
       "    </tr>\n",
       "    <tr>\n",
       "      <th>4</th>\n",
       "      <td>$</td>\n",
       "      <td>https://ipfs.io/ipfs/QmdrodroCUZ9a7E8idQmGhqh8...</td>\n",
       "      <td>634</td>\n",
       "    </tr>\n",
       "  </tbody>\n",
       "</table>\n",
       "</div>"
      ],
      "text/plain": [
       "  name                                          image_url  token_num\n",
       "0    1  https://ipfs.io/ipfs/QmdQgDpRwLP71yKg5fcQBioeG...         80\n",
       "1    0  https://ipfs.io/ipfs/QmNunb3UF4zYoZbsX9LWDZTvn...        103\n",
       "2    😎  https://ipfs.io/ipfs/QmXxWpyYRWNBFuPT6WsuD5ya9...        246\n",
       "3    a  https://ipfs.io/ipfs/QmbJvNydHgHY9CfF5V9MSkWkr...        263\n",
       "4    $  https://ipfs.io/ipfs/QmdrodroCUZ9a7E8idQmGhqh8...        634"
      ]
     },
     "execution_count": 15,
     "metadata": {},
     "output_type": "execute_result"
    }
   ],
   "source": [
    "single_char_df = pd.DataFrame(single_char_dict)\n",
    "single_char_df.head()"
   ]
  },
  {
   "cell_type": "code",
   "execution_count": 16,
   "metadata": {},
   "outputs": [],
   "source": [
    "#Save as markdown to save as html\n",
    "single_md = tabulate(single_char_df, tablefmt=\"pipe\", headers=\"keys\")\n",
    "with open(os.getcwd() + '/markdown/single.md', 'w') as f:\n",
    "    f.write(single_md)"
   ]
  },
  {
   "cell_type": "code",
   "execution_count": 17,
   "metadata": {},
   "outputs": [
    {
     "data": {
      "text/html": [
       "<div>\n",
       "<style scoped>\n",
       "    .dataframe tbody tr th:only-of-type {\n",
       "        vertical-align: middle;\n",
       "    }\n",
       "\n",
       "    .dataframe tbody tr th {\n",
       "        vertical-align: top;\n",
       "    }\n",
       "\n",
       "    .dataframe thead th {\n",
       "        text-align: right;\n",
       "    }\n",
       "</style>\n",
       "<table border=\"1\" class=\"dataframe\">\n",
       "  <thead>\n",
       "    <tr style=\"text-align: right;\">\n",
       "      <th></th>\n",
       "      <th>token_num</th>\n",
       "      <th>name</th>\n",
       "      <th>image_url</th>\n",
       "    </tr>\n",
       "  </thead>\n",
       "  <tbody>\n",
       "    <tr>\n",
       "      <th>0</th>\n",
       "      <td>1</td>\n",
       "      <td>to the moon</td>\n",
       "      <td>https://ipfs.io/ipfs/QmYfMU8DQy4TjuLahUtp5uTMZ...</td>\n",
       "    </tr>\n",
       "    <tr>\n",
       "      <th>1</th>\n",
       "      <td>2</td>\n",
       "      <td>art</td>\n",
       "      <td>https://ipfs.io/ipfs/QmPcQJGD9sBQfD43oqaUgEPms...</td>\n",
       "    </tr>\n",
       "    <tr>\n",
       "      <th>2</th>\n",
       "      <td>3</td>\n",
       "      <td>dumbgayretard</td>\n",
       "      <td>https://ipfs.io/ipfs/Qmd69TckuVPYuoz9taFrJnDPr...</td>\n",
       "    </tr>\n",
       "    <tr>\n",
       "      <th>3</th>\n",
       "      <td>4</td>\n",
       "      <td>skull</td>\n",
       "      <td>https://ipfs.io/ipfs/QmTTF82iBNgurB9BZcYLgcB2s...</td>\n",
       "    </tr>\n",
       "    <tr>\n",
       "      <th>4</th>\n",
       "      <td>5</td>\n",
       "      <td>arq</td>\n",
       "      <td>https://ipfs.io/ipfs/QmX3ba5awgdLkim2QseJ95o4v...</td>\n",
       "    </tr>\n",
       "  </tbody>\n",
       "</table>\n",
       "</div>"
      ],
      "text/plain": [
       "   token_num           name                                          image_url\n",
       "0          1    to the moon  https://ipfs.io/ipfs/QmYfMU8DQy4TjuLahUtp5uTMZ...\n",
       "1          2            art  https://ipfs.io/ipfs/QmPcQJGD9sBQfD43oqaUgEPms...\n",
       "2          3  dumbgayretard  https://ipfs.io/ipfs/Qmd69TckuVPYuoz9taFrJnDPr...\n",
       "3          4          skull  https://ipfs.io/ipfs/QmTTF82iBNgurB9BZcYLgcB2s...\n",
       "4          5            arq  https://ipfs.io/ipfs/QmX3ba5awgdLkim2QseJ95o4v..."
      ]
     },
     "execution_count": 17,
     "metadata": {},
     "output_type": "execute_result"
    }
   ],
   "source": [
    "df.head()"
   ]
  },
  {
   "cell_type": "markdown",
   "metadata": {},
   "source": [
    "## Explore Similarly Named Eponyms Ordered Alphabetically"
   ]
  },
  {
   "cell_type": "code",
   "execution_count": 18,
   "metadata": {},
   "outputs": [],
   "source": [
    "df_no_white_space = df\n",
    "df_no_white_space['og_name'] = df['name']\n",
    "df_no_white_space['name'] = df['name'].str.strip()\n",
    "duplicateRowsDF = df_no_white_space[df_no_white_space.duplicated(['name'], keep=False)]"
   ]
  },
  {
   "cell_type": "code",
   "execution_count": 19,
   "metadata": {},
   "outputs": [
    {
     "name": "stdout",
     "output_type": "stream",
     "text": [
      "There are 145 eponyms that kinda have the same name\n"
     ]
    }
   ],
   "source": [
    "duplicateRowsDF.sort_values('name', inplace = True)\n",
    "display_similar = duplicateRowsDF[['og_name', 'image_url', 'token_num']]\n",
    "dup_count = 0\n",
    "for index, row in duplicateRowsDF.iterrows():\n",
    "    #print(str(row['og_name']) + ': ' + row['image_url'] + \" \" + str(row['token_num']))\n",
    "    dup_count+=0.5\n",
    "print('There are {} eponyms that kinda have the same name'.format(int(dup_count)))"
   ]
  },
  {
   "cell_type": "code",
   "execution_count": 20,
   "metadata": {},
   "outputs": [],
   "source": [
    "#replace whitespace with underscore\n",
    "display_similar['og_name'] = display_similar['og_name'].str.replace(' ', '_')\n",
    "display_similar = display_similar.reset_index(drop=True)"
   ]
  },
  {
   "cell_type": "code",
   "execution_count": 21,
   "metadata": {},
   "outputs": [],
   "source": [
    "#save df as markdown to save as html\n",
    "sim_md = tabulate(display_similar, tablefmt=\"pipe\", headers=\"keys\")\n",
    "with open(os.getcwd() + '/markdown/similar.md', 'w') as f:\n",
    "    f.write(sim_md)"
   ]
  },
  {
   "cell_type": "code",
   "execution_count": 22,
   "metadata": {},
   "outputs": [],
   "source": [
    "df = df.drop(columns=['og_name'])"
   ]
  },
  {
   "cell_type": "markdown",
   "metadata": {},
   "source": [
    "## The Four Uploaded Images One"
   ]
  },
  {
   "cell_type": "markdown",
   "metadata": {},
   "source": [
    "- \"Non-official” attribute & Non-official image replacement:\n",
    "A small number of Eponyms (4 in total) were minted using an exploit that allowed the owner to upload a non-official image that was not generated by our algorithm. i.e. the famous Elon Musk image by “Woof”.\n",
    "The non-official” Eponyms’ images were replaced with “Non-Official” text to indicate them. Any collectors that paid for a “non-official” eponym before this change are eligible to get their purchase amount refunded.\n",
    "Side note – Eponym is all about exploring creativity and user-generated designs. As Woof was able to quickly and creatively find an exploit during the live drop and did ultimately conjured a new image, we will leave the now famous Elon exploited Eponym with the addition of a “non-official” attribute to it, as a monument for the community creativity demonstrated by Woof."
   ]
  },
  {
   "cell_type": "code",
   "execution_count": 23,
   "metadata": {},
   "outputs": [],
   "source": [
    "non_official = df[df.apply(lambda x: 'art-ai' in x['image_url'], axis=1)]"
   ]
  },
  {
   "cell_type": "code",
   "execution_count": 24,
   "metadata": {},
   "outputs": [
    {
     "name": "stdout",
     "output_type": "stream",
     "text": [
      "nan: https://art-ai.com/img/non_official_image.png 2408\n",
      "CryptoPunk #3100: https://art-ai.com/img/non_official_image.png 3268\n",
      "i fucked your mom: https://art-ai.com/img/non_official_image.png 4912\n",
      "BAYC #2087: https://art-ai.com/img/non_official_image.png 5040\n",
      "error: https://art-ai.com/img/non_official_image.png 5094\n",
      "inexistence: https://art-ai.com/img/non_official_image.png 5100\n",
      "galaxy trip: https://art-ai.com/img/non_official_image.png 6226\n",
      "cycle of life: https://art-ai.com/img/non_official_image.png 6994\n"
     ]
    }
   ],
   "source": [
    "for index, row in non_official.iterrows():\n",
    "    print(str(row['name']) + ': ' + row['image_url'] + \" \" + str(row['token_num']))"
   ]
  },
  {
   "cell_type": "markdown",
   "metadata": {},
   "source": [
    "## Eponyms w/ '@'"
   ]
  },
  {
   "cell_type": "code",
   "execution_count": 25,
   "metadata": {},
   "outputs": [
    {
     "name": "stdout",
     "output_type": "stream",
     "text": [
      "There are 24 eponyms with the '@' symbol\n"
     ]
    }
   ],
   "source": [
    "at_df = df[df.apply(lambda x: '@' in str(x['name']), axis=1)]\n",
    "at_count = 0\n",
    "for index, row in at_df.iterrows():\n",
    "    #print(str(row['name']) + ': ' + row['image_url'] + \" \" + str(row['token_num']))\n",
    "    at_count+=1\n",
    "print(\"There are {} eponyms with the '@' symbol\".format(at_count))"
   ]
  },
  {
   "cell_type": "code",
   "execution_count": 26,
   "metadata": {},
   "outputs": [
    {
     "data": {
      "text/html": [
       "<div>\n",
       "<style scoped>\n",
       "    .dataframe tbody tr th:only-of-type {\n",
       "        vertical-align: middle;\n",
       "    }\n",
       "\n",
       "    .dataframe tbody tr th {\n",
       "        vertical-align: top;\n",
       "    }\n",
       "\n",
       "    .dataframe thead th {\n",
       "        text-align: right;\n",
       "    }\n",
       "</style>\n",
       "<table border=\"1\" class=\"dataframe\">\n",
       "  <thead>\n",
       "    <tr style=\"text-align: right;\">\n",
       "      <th></th>\n",
       "      <th>token_num</th>\n",
       "      <th>name</th>\n",
       "      <th>image_url</th>\n",
       "    </tr>\n",
       "  </thead>\n",
       "  <tbody>\n",
       "    <tr>\n",
       "      <th>0</th>\n",
       "      <td>2302</td>\n",
       "      <td>@fvckrender</td>\n",
       "      <td>https://ipfs.io/ipfs/QmZzjk4MnH5qeZssQx3E4ooph...</td>\n",
       "    </tr>\n",
       "    <tr>\n",
       "      <th>1</th>\n",
       "      <td>2680</td>\n",
       "      <td>@inversebrah</td>\n",
       "      <td>https://ipfs.io/ipfs/QmTkHUrPEyVqgiMJnjdv5Uj1H...</td>\n",
       "    </tr>\n",
       "    <tr>\n",
       "      <th>2</th>\n",
       "      <td>2725</td>\n",
       "      <td>@elonmusk</td>\n",
       "      <td>https://ipfs.io/ipfs/QmXFzukhUYyftKHySfKgBuwrW...</td>\n",
       "    </tr>\n",
       "    <tr>\n",
       "      <th>3</th>\n",
       "      <td>3015</td>\n",
       "      <td>@muratpak</td>\n",
       "      <td>https://ipfs.io/ipfs/QmPjrTuWdW9WSJb31rxzTAWjN...</td>\n",
       "    </tr>\n",
       "    <tr>\n",
       "      <th>4</th>\n",
       "      <td>3196</td>\n",
       "      <td>@cozomomedici</td>\n",
       "      <td>https://ipfs.io/ipfs/QmUj9T8ya66GRc5NRN2UVJuz1...</td>\n",
       "    </tr>\n",
       "  </tbody>\n",
       "</table>\n",
       "</div>"
      ],
      "text/plain": [
       "   token_num           name                                          image_url\n",
       "0       2302    @fvckrender  https://ipfs.io/ipfs/QmZzjk4MnH5qeZssQx3E4ooph...\n",
       "1       2680   @inversebrah  https://ipfs.io/ipfs/QmTkHUrPEyVqgiMJnjdv5Uj1H...\n",
       "2       2725      @elonmusk  https://ipfs.io/ipfs/QmXFzukhUYyftKHySfKgBuwrW...\n",
       "3       3015      @muratpak  https://ipfs.io/ipfs/QmPjrTuWdW9WSJb31rxzTAWjN...\n",
       "4       3196  @cozomomedici  https://ipfs.io/ipfs/QmUj9T8ya66GRc5NRN2UVJuz1..."
      ]
     },
     "execution_count": 26,
     "metadata": {},
     "output_type": "execute_result"
    }
   ],
   "source": [
    "at_df = at_df.reset_index(drop=True)\n",
    "at_df.head()"
   ]
  },
  {
   "cell_type": "code",
   "execution_count": 27,
   "metadata": {},
   "outputs": [],
   "source": [
    "#Save as markdown to save as html\n",
    "at_md = tabulate(at_df, tablefmt=\"pipe\", headers=\"keys\")\n",
    "with open(os.getcwd() + '/markdown/at_md.md', 'w') as f:\n",
    "    f.write(at_md)"
   ]
  },
  {
   "cell_type": "markdown",
   "metadata": {},
   "source": [
    "## Eponyms w/ url"
   ]
  },
  {
   "cell_type": "code",
   "execution_count": 28,
   "metadata": {},
   "outputs": [],
   "source": [
    "links_df = df[df.apply(lambda x: 'http' in str(x['name']), axis=1)]\n",
    "#for index, row in df[df.apply(lambda x: 'http' in str(x['name']), axis=1)].iterrows():\n",
    "    #print(str(row['name']) + ' - ' + row['image_url'] + \" \" + str(row['token_num']))"
   ]
  },
  {
   "cell_type": "code",
   "execution_count": 29,
   "metadata": {},
   "outputs": [
    {
     "data": {
      "text/html": [
       "<div>\n",
       "<style scoped>\n",
       "    .dataframe tbody tr th:only-of-type {\n",
       "        vertical-align: middle;\n",
       "    }\n",
       "\n",
       "    .dataframe tbody tr th {\n",
       "        vertical-align: top;\n",
       "    }\n",
       "\n",
       "    .dataframe thead th {\n",
       "        text-align: right;\n",
       "    }\n",
       "</style>\n",
       "<table border=\"1\" class=\"dataframe\">\n",
       "  <thead>\n",
       "    <tr style=\"text-align: right;\">\n",
       "      <th></th>\n",
       "      <th>token_num</th>\n",
       "      <th>name</th>\n",
       "      <th>image_url</th>\n",
       "    </tr>\n",
       "  </thead>\n",
       "  <tbody>\n",
       "    <tr>\n",
       "      <th>0</th>\n",
       "      <td>6547</td>\n",
       "      <td>https://twitter.com/halfin/status/1110302988</td>\n",
       "      <td>https://ipfs.io/ipfs/QmYuaP4SmKRKk6ahqTUegMoam...</td>\n",
       "    </tr>\n",
       "    <tr>\n",
       "      <th>1</th>\n",
       "      <td>9044</td>\n",
       "      <td>https://twitter.com/elonmusk/status/1340573003...</td>\n",
       "      <td>https://ipfs.io/ipfs/QmfDQfbuuyzSvaUhLLRY9udWA...</td>\n",
       "    </tr>\n",
       "    <tr>\n",
       "      <th>2</th>\n",
       "      <td>9364</td>\n",
       "      <td>https://www.youtube.com/watch?v=dqw4w9wgxcq</td>\n",
       "      <td>https://ipfs.io/ipfs/Qmb6ikEuh5vH7ba8uyniWrw6g...</td>\n",
       "    </tr>\n",
       "    <tr>\n",
       "      <th>3</th>\n",
       "      <td>9864</td>\n",
       "      <td>https://art-ai.com/minting-time</td>\n",
       "      <td>https://ipfs.io/ipfs/QmYe3gtYA8w7RzLBV762WMNBa...</td>\n",
       "    </tr>\n",
       "  </tbody>\n",
       "</table>\n",
       "</div>"
      ],
      "text/plain": [
       "   token_num                                               name  \\\n",
       "0       6547       https://twitter.com/halfin/status/1110302988   \n",
       "1       9044  https://twitter.com/elonmusk/status/1340573003...   \n",
       "2       9364        https://www.youtube.com/watch?v=dqw4w9wgxcq   \n",
       "3       9864                    https://art-ai.com/minting-time   \n",
       "\n",
       "                                           image_url  \n",
       "0  https://ipfs.io/ipfs/QmYuaP4SmKRKk6ahqTUegMoam...  \n",
       "1  https://ipfs.io/ipfs/QmfDQfbuuyzSvaUhLLRY9udWA...  \n",
       "2  https://ipfs.io/ipfs/Qmb6ikEuh5vH7ba8uyniWrw6g...  \n",
       "3  https://ipfs.io/ipfs/QmYe3gtYA8w7RzLBV762WMNBa...  "
      ]
     },
     "execution_count": 29,
     "metadata": {},
     "output_type": "execute_result"
    }
   ],
   "source": [
    "links_df = links_df.reset_index(drop=True)\n",
    "links_df.head()"
   ]
  },
  {
   "cell_type": "code",
   "execution_count": 30,
   "metadata": {},
   "outputs": [],
   "source": [
    "#Save as markdown to save as html\n",
    "links_md = tabulate(links_df, tablefmt=\"pipe\", headers=\"keys\")\n",
    "with open(os.getcwd() + '/markdown/links_md.md', 'w') as f:\n",
    "    f.write(links_md)"
   ]
  },
  {
   "cell_type": "markdown",
   "metadata": {},
   "source": [
    "## Eponyms Related to NFTs and Crypto"
   ]
  },
  {
   "cell_type": "code",
   "execution_count": 31,
   "metadata": {},
   "outputs": [],
   "source": [
    "nft_jargon = ['gm', 'gn', 'ser', 'fren', 'gmi', 'wagmi', 'gonna make it', 'we gonna make it', 'we all gonna make it', \"we're gonna make it\", 'not gonna make it', 'ngmi', 'mcdonalds', 'pfp', 'looks rare', 'fomo', 'cope', '1/1', '1:1', 'szn', 'nft', 'irl', 'probably nothing', \"we're early\", 'we early', 'early', 'up only', 'liquidity', 'mint', 'bitcoin', 'ethereum', 'eth', 'right click', 'cardano', 'sol', 'floor', 'alpha', 'jpg', 'jpeg', 'png', 'discord', 'roadmap', 'lfg', 'gas war', 'rug', 'ded', 'iykyk', 'wen', 'dyor', 'aped', 'nfa', 'crypto', 'punks', 'bayc', 'bored ape', 'cryptoadz', 'nakamoto', 'cryptocurrency', 'cool cats', 'mekaverse', 'xcopy', 'gary', 'cryptopunks', 'cryptopunk', 'decentralize', 'decentralized', 'shill']\n"
   ]
  },
  {
   "cell_type": "code",
   "execution_count": 32,
   "metadata": {},
   "outputs": [
    {
     "name": "stdout",
     "output_type": "stream",
     "text": [
      "There are 483 eponyms related to NFTs and crypto.\n"
     ]
    }
   ],
   "source": [
    "nft_count = 0\n",
    "nft_dict = {\n",
    "    \"name\":[],\n",
    "    \"image_url\":[],\n",
    "    \"token_num\":[]\n",
    "}\n",
    "for index, row in df.iterrows():\n",
    "    for word in word_tokenize(str(row['name']).lower()):\n",
    "        if word in nft_jargon or str(row['name']).startswith(\"!\"):\n",
    "            nft_dict[\"name\"].append(str(row['name']))\n",
    "            nft_dict[\"image_url\"].append(row['image_url'])\n",
    "            nft_dict[\"token_num\"].append(row['token_num'])\n",
    "            #print(str(row['name']) + ': ' + row['image_url'] + \" \" + str(row['token_num']))\n",
    "            nft_count +=1\n",
    "print('There are {} eponyms related to NFTs and crypto.'.format(nft_count))"
   ]
  },
  {
   "cell_type": "code",
   "execution_count": 33,
   "metadata": {},
   "outputs": [
    {
     "data": {
      "text/html": [
       "<div>\n",
       "<style scoped>\n",
       "    .dataframe tbody tr th:only-of-type {\n",
       "        vertical-align: middle;\n",
       "    }\n",
       "\n",
       "    .dataframe tbody tr th {\n",
       "        vertical-align: top;\n",
       "    }\n",
       "\n",
       "    .dataframe thead th {\n",
       "        text-align: right;\n",
       "    }\n",
       "</style>\n",
       "<table border=\"1\" class=\"dataframe\">\n",
       "  <thead>\n",
       "    <tr style=\"text-align: right;\">\n",
       "      <th></th>\n",
       "      <th>name</th>\n",
       "      <th>image_url</th>\n",
       "      <th>token_num</th>\n",
       "    </tr>\n",
       "  </thead>\n",
       "  <tbody>\n",
       "    <tr>\n",
       "      <th>0</th>\n",
       "      <td>wagmi</td>\n",
       "      <td>https://ipfs.io/ipfs/QmUmoxB39W8cQFk7iSVFZmzKH...</td>\n",
       "      <td>7</td>\n",
       "    </tr>\n",
       "    <tr>\n",
       "      <th>1</th>\n",
       "      <td>bitcoin</td>\n",
       "      <td>https://ipfs.io/ipfs/QmS6h836dtBCfWYExcqEsFCYa...</td>\n",
       "      <td>10</td>\n",
       "    </tr>\n",
       "    <tr>\n",
       "      <th>2</th>\n",
       "      <td>cryptopunk</td>\n",
       "      <td>https://ipfs.io/ipfs/Qmf9gcbJiXBGqkLMmEE9Jz3BL...</td>\n",
       "      <td>15</td>\n",
       "    </tr>\n",
       "    <tr>\n",
       "      <th>3</th>\n",
       "      <td>ethereum</td>\n",
       "      <td>https://ipfs.io/ipfs/QmU3Rx1CQCnH2UEtLyrBzaDqq...</td>\n",
       "      <td>20</td>\n",
       "    </tr>\n",
       "    <tr>\n",
       "      <th>4</th>\n",
       "      <td>nft</td>\n",
       "      <td>https://ipfs.io/ipfs/QmSSHdDgPwYkMwRuth2hpjyM8...</td>\n",
       "      <td>44</td>\n",
       "    </tr>\n",
       "  </tbody>\n",
       "</table>\n",
       "</div>"
      ],
      "text/plain": [
       "         name                                          image_url  token_num\n",
       "0       wagmi  https://ipfs.io/ipfs/QmUmoxB39W8cQFk7iSVFZmzKH...          7\n",
       "1     bitcoin  https://ipfs.io/ipfs/QmS6h836dtBCfWYExcqEsFCYa...         10\n",
       "2  cryptopunk  https://ipfs.io/ipfs/Qmf9gcbJiXBGqkLMmEE9Jz3BL...         15\n",
       "3    ethereum  https://ipfs.io/ipfs/QmU3Rx1CQCnH2UEtLyrBzaDqq...         20\n",
       "4         nft  https://ipfs.io/ipfs/QmSSHdDgPwYkMwRuth2hpjyM8...         44"
      ]
     },
     "execution_count": 33,
     "metadata": {},
     "output_type": "execute_result"
    }
   ],
   "source": [
    "nft_df = pd.DataFrame(nft_dict)\n",
    "nft_df.head()"
   ]
  },
  {
   "cell_type": "code",
   "execution_count": 34,
   "metadata": {},
   "outputs": [],
   "source": [
    "#Save as markdown to save as html\n",
    "nft_md = tabulate(nft_df, tablefmt=\"pipe\", headers=\"keys\")\n",
    "with open(os.getcwd() + '/markdown/nft_md.md', 'w') as f:\n",
    "    f.write(nft_md)"
   ]
  },
  {
   "cell_type": "markdown",
   "metadata": {},
   "source": [
    "## Hella Long Eponyms"
   ]
  },
  {
   "cell_type": "code",
   "execution_count": 35,
   "metadata": {},
   "outputs": [
    {
     "name": "stdout",
     "output_type": "stream",
     "text": [
      "There are 212 long eponyms (more than 8 words)\n"
     ]
    }
   ],
   "source": [
    "long_count = 0\n",
    "long_df = df[df.apply(lambda x: len(str(x['name']).split()) > 8, axis=1)]\n",
    "for index, row in long_df.iterrows():\n",
    "    #print(str(row['name']) + ': ' + row['image_url'] + \" \" + str(row['token_num']))\n",
    "    long_count += 1\n",
    "print('There are {} long eponyms (more than 8 words)'.format(long_count))"
   ]
  },
  {
   "cell_type": "code",
   "execution_count": 36,
   "metadata": {},
   "outputs": [
    {
     "data": {
      "text/html": [
       "<div>\n",
       "<style scoped>\n",
       "    .dataframe tbody tr th:only-of-type {\n",
       "        vertical-align: middle;\n",
       "    }\n",
       "\n",
       "    .dataframe tbody tr th {\n",
       "        vertical-align: top;\n",
       "    }\n",
       "\n",
       "    .dataframe thead th {\n",
       "        text-align: right;\n",
       "    }\n",
       "</style>\n",
       "<table border=\"1\" class=\"dataframe\">\n",
       "  <thead>\n",
       "    <tr style=\"text-align: right;\">\n",
       "      <th></th>\n",
       "      <th>token_num</th>\n",
       "      <th>name</th>\n",
       "      <th>image_url</th>\n",
       "    </tr>\n",
       "  </thead>\n",
       "  <tbody>\n",
       "    <tr>\n",
       "      <th>0</th>\n",
       "      <td>181</td>\n",
       "      <td>kanye west is the greatest artist of all time</td>\n",
       "      <td>https://ipfs.io/ipfs/QmfD6ma7cicXPyNs2Jv3Rt9ph...</td>\n",
       "    </tr>\n",
       "    <tr>\n",
       "      <th>1</th>\n",
       "      <td>572</td>\n",
       "      <td>the wheel is come full circle: i am here.</td>\n",
       "      <td>https://ipfs.io/ipfs/QmNRvWgJp1ZsB31pTDMBNhU8J...</td>\n",
       "    </tr>\n",
       "    <tr>\n",
       "      <th>2</th>\n",
       "      <td>662</td>\n",
       "      <td>the times 03/jan/2009 chancellor on brink of s...</td>\n",
       "      <td>https://ipfs.io/ipfs/QmP5hBjoJYJCHykVcWn7UbN6t...</td>\n",
       "    </tr>\n",
       "    <tr>\n",
       "      <th>3</th>\n",
       "      <td>714</td>\n",
       "      <td>if you don’t believe it or don’t get it, i don...</td>\n",
       "      <td>https://ipfs.io/ipfs/QmWdTJLR25bozjassSSRmzz4P...</td>\n",
       "    </tr>\n",
       "    <tr>\n",
       "      <th>4</th>\n",
       "      <td>731</td>\n",
       "      <td>dogs love to jump with toads licking their bel...</td>\n",
       "      <td>https://ipfs.io/ipfs/QmUcMdK4rFoQNd8tCsjUqwoPy...</td>\n",
       "    </tr>\n",
       "  </tbody>\n",
       "</table>\n",
       "</div>"
      ],
      "text/plain": [
       "   token_num                                               name  \\\n",
       "0        181      kanye west is the greatest artist of all time   \n",
       "1        572          the wheel is come full circle: i am here.   \n",
       "2        662  the times 03/jan/2009 chancellor on brink of s...   \n",
       "3        714  if you don’t believe it or don’t get it, i don...   \n",
       "4        731  dogs love to jump with toads licking their bel...   \n",
       "\n",
       "                                           image_url  \n",
       "0  https://ipfs.io/ipfs/QmfD6ma7cicXPyNs2Jv3Rt9ph...  \n",
       "1  https://ipfs.io/ipfs/QmNRvWgJp1ZsB31pTDMBNhU8J...  \n",
       "2  https://ipfs.io/ipfs/QmP5hBjoJYJCHykVcWn7UbN6t...  \n",
       "3  https://ipfs.io/ipfs/QmWdTJLR25bozjassSSRmzz4P...  \n",
       "4  https://ipfs.io/ipfs/QmUcMdK4rFoQNd8tCsjUqwoPy...  "
      ]
     },
     "execution_count": 36,
     "metadata": {},
     "output_type": "execute_result"
    }
   ],
   "source": [
    "long_df = long_df.reset_index(drop=True)\n",
    "long_df.head()"
   ]
  },
  {
   "cell_type": "code",
   "execution_count": 37,
   "metadata": {},
   "outputs": [],
   "source": [
    "#Save as markdown to save as html\n",
    "long_md = tabulate(long_df, tablefmt=\"pipe\", headers=\"keys\")\n",
    "with open(os.getcwd() + '/markdown/long.md', 'w') as f:\n",
    "    f.write(long_md)"
   ]
  },
  {
   "cell_type": "markdown",
   "metadata": {},
   "source": [
    "## Location Eponyms"
   ]
  },
  {
   "cell_type": "code",
   "execution_count": 38,
   "metadata": {},
   "outputs": [],
   "source": [
    "import spacy"
   ]
  },
  {
   "cell_type": "code",
   "execution_count": 39,
   "metadata": {},
   "outputs": [
    {
     "name": "stdout",
     "output_type": "stream",
     "text": [
      "John Lee PERSON\n",
      "CBSE ORG\n",
      "Americans NORP\n"
     ]
    }
   ],
   "source": [
    "import spacy.displacy as displacy\n",
    "nlp =spacy.load(\"en_core_web_sm\")\n",
    "index = \"John Lee is the chief of CBSE’, ‘Americans suffered from H5N1\"\n",
    "doc = nlp(index)\n",
    "for ent in doc.ents:\n",
    " print(ent.text,ent.label_)"
   ]
  },
  {
   "cell_type": "code",
   "execution_count": 42,
   "metadata": {},
   "outputs": [
    {
     "name": "stdout",
     "output_type": "stream",
     "text": [
      "There are 43 location eponyms\n"
     ]
    }
   ],
   "source": [
    "loc_count = 0\n",
    "loc_dict = {\n",
    "    \"name\":[],\n",
    "    \"image_url\":[],\n",
    "    \"token_num\":[]\n",
    "}\n",
    "for index, row in df.iterrows():\n",
    "    doc = nlp(str(row['name']))\n",
    "    for ent in doc.ents:\n",
    "        if ent.label_ == 'LOC':\n",
    "            loc_dict[\"name\"].append(str(row['name']))\n",
    "            loc_dict[\"image_url\"].append(row['image_url'])\n",
    "            loc_dict[\"token_num\"].append(row['token_num'])\n",
    "            loc_count+=1\n",
    "print(\"There are {} location eponyms\".format(loc_count))"
   ]
  },
  {
   "cell_type": "code",
   "execution_count": 43,
   "metadata": {},
   "outputs": [
    {
     "data": {
      "text/html": [
       "<div>\n",
       "<style scoped>\n",
       "    .dataframe tbody tr th:only-of-type {\n",
       "        vertical-align: middle;\n",
       "    }\n",
       "\n",
       "    .dataframe tbody tr th {\n",
       "        vertical-align: top;\n",
       "    }\n",
       "\n",
       "    .dataframe thead th {\n",
       "        text-align: right;\n",
       "    }\n",
       "</style>\n",
       "<table border=\"1\" class=\"dataframe\">\n",
       "  <thead>\n",
       "    <tr style=\"text-align: right;\">\n",
       "      <th></th>\n",
       "      <th>name</th>\n",
       "      <th>image_url</th>\n",
       "      <th>token_num</th>\n",
       "    </tr>\n",
       "  </thead>\n",
       "  <tbody>\n",
       "    <tr>\n",
       "      <th>0</th>\n",
       "      <td>asia</td>\n",
       "      <td>https://ipfs.io/ipfs/QmdwwCxZ8ENGbFM8PVdRfg5ma...</td>\n",
       "      <td>18</td>\n",
       "    </tr>\n",
       "    <tr>\n",
       "      <th>1</th>\n",
       "      <td>mars</td>\n",
       "      <td>https://ipfs.io/ipfs/QmYgAbMCzDK4q1C5jNKVV41bZ...</td>\n",
       "      <td>117</td>\n",
       "    </tr>\n",
       "    <tr>\n",
       "      <th>2</th>\n",
       "      <td>to the mars</td>\n",
       "      <td>https://ipfs.io/ipfs/QmRjqQwkbVJmrvUxsqMk8VuPk...</td>\n",
       "      <td>321</td>\n",
       "    </tr>\n",
       "    <tr>\n",
       "      <th>3</th>\n",
       "      <td>jupiter</td>\n",
       "      <td>https://ipfs.io/ipfs/QmPv2ATMShRMSNg5o3Ap1NCXM...</td>\n",
       "      <td>924</td>\n",
       "    </tr>\n",
       "    <tr>\n",
       "      <th>4</th>\n",
       "      <td>food of the earth</td>\n",
       "      <td>https://ipfs.io/ipfs/QmTytw3PYypRC2sjfpq56HPCy...</td>\n",
       "      <td>1773</td>\n",
       "    </tr>\n",
       "  </tbody>\n",
       "</table>\n",
       "</div>"
      ],
      "text/plain": [
       "                name                                          image_url  \\\n",
       "0               asia  https://ipfs.io/ipfs/QmdwwCxZ8ENGbFM8PVdRfg5ma...   \n",
       "1               mars  https://ipfs.io/ipfs/QmYgAbMCzDK4q1C5jNKVV41bZ...   \n",
       "2        to the mars  https://ipfs.io/ipfs/QmRjqQwkbVJmrvUxsqMk8VuPk...   \n",
       "3            jupiter  https://ipfs.io/ipfs/QmPv2ATMShRMSNg5o3Ap1NCXM...   \n",
       "4  food of the earth  https://ipfs.io/ipfs/QmTytw3PYypRC2sjfpq56HPCy...   \n",
       "\n",
       "   token_num  \n",
       "0         18  \n",
       "1        117  \n",
       "2        321  \n",
       "3        924  \n",
       "4       1773  "
      ]
     },
     "execution_count": 43,
     "metadata": {},
     "output_type": "execute_result"
    }
   ],
   "source": [
    "loc_df = pd.DataFrame(loc_dict)\n",
    "loc_df.head()"
   ]
  },
  {
   "cell_type": "code",
   "execution_count": 44,
   "metadata": {},
   "outputs": [],
   "source": [
    "#Save as markdown to save as html\n",
    "loc_md = tabulate(loc_df, tablefmt=\"pipe\", headers=\"keys\")\n",
    "with open(os.getcwd() + '/markdown/loc.md', 'w') as f:\n",
    "    f.write(loc_md)"
   ]
  },
  {
   "cell_type": "markdown",
   "metadata": {},
   "source": [
    "## Person Eponyms"
   ]
  },
  {
   "cell_type": "code",
   "execution_count": 47,
   "metadata": {},
   "outputs": [
    {
     "name": "stdout",
     "output_type": "stream",
     "text": [
      "There are 979 person eponyms\n"
     ]
    }
   ],
   "source": [
    "person_count = 0\n",
    "person_dict = {\n",
    "    \"name\":[],\n",
    "    \"image_url\":[],\n",
    "    \"token_num\":[]\n",
    "}\n",
    "for index, row in df.iterrows():\n",
    "    doc = nlp(str(row['name']))\n",
    "    for ent in doc.ents:\n",
    "        if ent.label_ == 'PERSON':\n",
    "            person_dict[\"name\"].append(str(row['name']))\n",
    "            person_dict[\"image_url\"].append(row['image_url'])\n",
    "            person_dict[\"token_num\"].append(row['token_num'])\n",
    "            person_count+=1\n",
    "print(\"There are {} person eponyms\".format(person_count))"
   ]
  },
  {
   "cell_type": "code",
   "execution_count": 48,
   "metadata": {},
   "outputs": [
    {
     "data": {
      "text/html": [
       "<div>\n",
       "<style scoped>\n",
       "    .dataframe tbody tr th:only-of-type {\n",
       "        vertical-align: middle;\n",
       "    }\n",
       "\n",
       "    .dataframe tbody tr th {\n",
       "        vertical-align: top;\n",
       "    }\n",
       "\n",
       "    .dataframe thead th {\n",
       "        text-align: right;\n",
       "    }\n",
       "</style>\n",
       "<table border=\"1\" class=\"dataframe\">\n",
       "  <thead>\n",
       "    <tr style=\"text-align: right;\">\n",
       "      <th></th>\n",
       "      <th>name</th>\n",
       "      <th>image_url</th>\n",
       "      <th>token_num</th>\n",
       "    </tr>\n",
       "  </thead>\n",
       "  <tbody>\n",
       "    <tr>\n",
       "      <th>0</th>\n",
       "      <td>amsterdam</td>\n",
       "      <td>https://ipfs.io/ipfs/QmaHKYPVvPENQeQHZJNity3MR...</td>\n",
       "      <td>17</td>\n",
       "    </tr>\n",
       "    <tr>\n",
       "      <th>1</th>\n",
       "      <td>bulla lisa</td>\n",
       "      <td>https://ipfs.io/ipfs/QmVYHb5VZRjYz2anVf2LVehhq...</td>\n",
       "      <td>24</td>\n",
       "    </tr>\n",
       "    <tr>\n",
       "      <th>2</th>\n",
       "      <td>moon</td>\n",
       "      <td>https://ipfs.io/ipfs/QmSqf3Lggkc9QHapg57HYoyKt...</td>\n",
       "      <td>26</td>\n",
       "    </tr>\n",
       "    <tr>\n",
       "      <th>3</th>\n",
       "      <td>spacekittyxd</td>\n",
       "      <td>https://ipfs.io/ipfs/QmZFMEbaCD6BJJdsvb7dfKhQW...</td>\n",
       "      <td>60</td>\n",
       "    </tr>\n",
       "    <tr>\n",
       "      <th>4</th>\n",
       "      <td>sol</td>\n",
       "      <td>https://ipfs.io/ipfs/QmVLiJkgzL646g2s6zEQfbNVQ...</td>\n",
       "      <td>72</td>\n",
       "    </tr>\n",
       "  </tbody>\n",
       "</table>\n",
       "</div>"
      ],
      "text/plain": [
       "           name                                          image_url  token_num\n",
       "0     amsterdam  https://ipfs.io/ipfs/QmaHKYPVvPENQeQHZJNity3MR...         17\n",
       "1    bulla lisa  https://ipfs.io/ipfs/QmVYHb5VZRjYz2anVf2LVehhq...         24\n",
       "2          moon  https://ipfs.io/ipfs/QmSqf3Lggkc9QHapg57HYoyKt...         26\n",
       "3  spacekittyxd  https://ipfs.io/ipfs/QmZFMEbaCD6BJJdsvb7dfKhQW...         60\n",
       "4           sol  https://ipfs.io/ipfs/QmVLiJkgzL646g2s6zEQfbNVQ...         72"
      ]
     },
     "execution_count": 48,
     "metadata": {},
     "output_type": "execute_result"
    }
   ],
   "source": [
    "person_df = pd.DataFrame(person_dict)\n",
    "person_df.head()"
   ]
  },
  {
   "cell_type": "code",
   "execution_count": 49,
   "metadata": {},
   "outputs": [],
   "source": [
    "#Save as markdown to save as html\n",
    "person_md = tabulate(person_df, tablefmt=\"pipe\", headers=\"keys\")\n",
    "with open(os.getcwd() + '/markdown/person.md', 'w') as f:\n",
    "    f.write(person_md)"
   ]
  },
  {
   "cell_type": "code",
   "execution_count": null,
   "metadata": {},
   "outputs": [],
   "source": []
  }
 ],
 "metadata": {
  "kernelspec": {
   "display_name": "Python 3",
   "language": "python",
   "name": "python3"
  },
  "language_info": {
   "codemirror_mode": {
    "name": "ipython",
    "version": 3
   },
   "file_extension": ".py",
   "mimetype": "text/x-python",
   "name": "python",
   "nbconvert_exporter": "python",
   "pygments_lexer": "ipython3",
   "version": "3.7.4"
  }
 },
 "nbformat": 4,
 "nbformat_minor": 2
}
